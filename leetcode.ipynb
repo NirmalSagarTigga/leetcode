{
 "cells": [
  {
   "cell_type": "markdown",
   "metadata": {},
   "source": [
    "DUPLICATE VALUES IN AN ARRAY"
   ]
  },
  {
   "cell_type": "code",
   "execution_count": 1,
   "metadata": {},
   "outputs": [
    {
     "name": "stdout",
     "output_type": "stream",
     "text": [
      "False\n"
     ]
    }
   ],
   "source": [
    "\n",
    "#My solution\n",
    "def dep(array1):\n",
    "    for i in array1:\n",
    "        if array1.count(i)>1:\n",
    "            return True\n",
    "        else:\n",
    "            return False\n",
    "      \n",
    "                \n",
    "            \n",
    " \n",
    "\n",
    " \n",
    "array1=[1,2,3,4,5]\n",
    "print(dep(array1))"
   ]
  },
  {
   "cell_type": "code",
   "execution_count": 2,
   "metadata": {},
   "outputs": [
    {
     "name": "stdout",
     "output_type": "stream",
     "text": [
      "False\n"
     ]
    }
   ],
   "source": [
    "#Best way is to use is set\n",
    "def dep(array1):\n",
    "    if(len(set(array1))==len(array1)):\n",
    "        return False\n",
    "    else:\n",
    "        return True\n",
    "array1=[1,2,3,4,5]\n",
    "print(dep(array1))"
   ]
  },
  {
   "cell_type": "markdown",
   "metadata": {},
   "source": [
    "MISSING NUMBER IN AN ARRAY"
   ]
  },
  {
   "cell_type": "code",
   "execution_count": 7,
   "metadata": {},
   "outputs": [
    {
     "name": "stdout",
     "output_type": "stream",
     "text": [
      "4\n"
     ]
    }
   ],
   "source": [
    "#My solution\n",
    "def missing_number(array1):\n",
    "    array1.sort()\n",
    "    for i,v in enumerate(array1):\n",
    "        if i!=v: \n",
    "            return i\n",
    "        \n",
    "array1=[1,3,2,0,5]\n",
    "print(missing_number(array1)) "
   ]
  },
  {
   "cell_type": "code",
   "execution_count": 8,
   "metadata": {},
   "outputs": [
    {
     "name": "stdout",
     "output_type": "stream",
     "text": [
      "4\n"
     ]
    }
   ],
   "source": [
    "#best solution for missing number\n",
    "def missing_number(array1):\n",
    "    return sum(range(len(array1)+1)) - sum(array1)\n",
    "array1=[1,3,2,0,5]\n",
    "print(missing_number(array1))\n"
   ]
  },
  {
   "cell_type": "markdown",
   "metadata": {},
   "source": [
    "MISSING NUMBERS IN AN ARRAY"
   ]
  },
  {
   "cell_type": "code",
   "execution_count": 9,
   "metadata": {},
   "outputs": [
    {
     "name": "stdout",
     "output_type": "stream",
     "text": [
      "[5, 6]\n"
     ]
    }
   ],
   "source": [
    "#my solution\n",
    "def missing_numbers(array1):\n",
    "    length_array=len(array1)\n",
    "    s=set(array1)\n",
    "    li=[]\n",
    "    for i in range (1,length_array+1):\n",
    "        if i not in s:\n",
    "            li.append(i)\n",
    "    return li\n",
    "        \n",
    "array1=[4,3,2,7,8,3,2,1]\n",
    "print(missing_numbers(array1))"
   ]
  },
  {
   "cell_type": "markdown",
   "metadata": {},
   "source": [
    "INDEX OF NUMBERS WHEN ADDED REACH A TARGET"
   ]
  },
  {
   "cell_type": "code",
   "execution_count": 10,
   "metadata": {},
   "outputs": [
    {
     "name": "stdout",
     "output_type": "stream",
     "text": [
      "(0, 2)\n"
     ]
    }
   ],
   "source": [
    "#my solution\n",
    "def numbers(target,array1):\n",
    "   \n",
    "    for i in range(0,len(array1)):\n",
    "        if (target-array1[i]) in array1:\n",
    "            return i,array1.index(target-array1[i])\n",
    "        \n",
    "   \n",
    "target=9\n",
    "array1=[2,11,7,5]\n",
    "print(numbers(target,array1))"
   ]
  },
  {
   "cell_type": "code",
   "execution_count": 11,
   "metadata": {},
   "outputs": [
    {
     "name": "stdout",
     "output_type": "stream",
     "text": [
      "(0, 2)\n"
     ]
    }
   ],
   "source": [
    "#better solution\n",
    "def numbers(target,array1):\n",
    "   \n",
    "    hash_map={}\n",
    "    for index,value in enumerate(array1):\n",
    "        diff=target-value\n",
    "        if diff in hash_map:\n",
    "            return hash_map[diff],index\n",
    "        hash_map[value]=index\n",
    "        \n",
    "        \n",
    "   \n",
    "target=9\n",
    "array1=[2,11,7,5]\n",
    "print(numbers(target,array1))"
   ]
  },
  {
   "cell_type": "markdown",
   "metadata": {},
   "source": [
    "HOW MANY NUUMBERS ARE SMALLLER THAN THE COURRENT NUMBER"
   ]
  },
  {
   "cell_type": "code",
   "execution_count": 12,
   "metadata": {},
   "outputs": [
    {
     "name": "stdout",
     "output_type": "stream",
     "text": [
      "[0, 1, 3, 4, 5, 1]\n"
     ]
    }
   ],
   "source": [
    "#my solution\n",
    "def small(array1):\n",
    "    count=0\n",
    "    li=[]\n",
    "    for i in range(0,len(array1)):\n",
    "        for j in array1:\n",
    "            if j<array1[i]:\n",
    "                count+=1\n",
    "        if count>0:\n",
    "            li.append(count)\n",
    "        else:\n",
    "            li.append(0)\n",
    "        count=0\n",
    "    return li\n",
    "    \n",
    "array1=[1,4,5,8,9,4]\n",
    "print(small(array1))"
   ]
  },
  {
   "cell_type": "code",
   "execution_count": 15,
   "metadata": {},
   "outputs": [
    {
     "name": "stdout",
     "output_type": "stream",
     "text": [
      "[0, 1, 3, 4, 5, 1]\n"
     ]
    }
   ],
   "source": [
    "#best solution\n",
    "def small(array1):\n",
    "    temp=array1.copy()\n",
    "    temp.sort()\n",
    "    d={}\n",
    "    li=[]\n",
    "    for index,value in enumerate(temp):\n",
    "        if value not in d:\n",
    "            d[value]=index\n",
    "    for i in array1:\n",
    "        li.append(d[i])\n",
    "    return li\n",
    "    \n",
    "array1=[1,4,5,8,9,4]\n",
    "print(small(array1))"
   ]
  },
  {
   "cell_type": "markdown",
   "metadata": {},
   "source": [
    "MINIMUM TIME VISITING ALL POINTS"
   ]
  },
  {
   "cell_type": "code",
   "execution_count": 16,
   "metadata": {},
   "outputs": [
    {
     "name": "stdout",
     "output_type": "stream",
     "text": [
      "7\n"
     ]
    }
   ],
   "source": [
    "#my solution\n",
    "def mindist(points):\n",
    "    maxDist=0\n",
    "    for i in range(0,len(points)-1):\n",
    "        dist=max(abs(points[i][0]-points[i+1][0]),abs(points[i][1]-points[i+1][1]))\n",
    "        maxDist+=dist\n",
    "    return maxDist\n",
    "    \n",
    "points=[[1,1],[3,4],[-1,0]]\n",
    "print(mindist(points))\n",
    "\n"
   ]
  },
  {
   "cell_type": "code",
   "execution_count": 24,
   "metadata": {},
   "outputs": [
    {
     "name": "stdout",
     "output_type": "stream",
     "text": [
      "3\n"
     ]
    }
   ],
   "source": [
    "#best solution\n",
    "def mindist(points):\n",
    "    res=0\n",
    "    x1,y1=points.pop()\n",
    "    while points:\n",
    "        x2,y2=points.pop()\n",
    "        res=max(abs(y2-y1),abs(x2-x1))\n",
    "        x1,y1=x2,y2\n",
    "       \n",
    "    return res\n",
    "\n",
    "points=[[1,1],[3,4],[-1,0]]\n",
    "print(mindist(points))\n"
   ]
  },
  {
   "cell_type": "markdown",
   "metadata": {},
   "source": [
    "SPIRAL MATRIX"
   ]
  },
  {
   "cell_type": "code",
   "execution_count": 54,
   "metadata": {},
   "outputs": [
    {
     "name": "stdout",
     "output_type": "stream",
     "text": [
      "[1, 2, 3, 6, 7, 8, 7, 4, 5]\n"
     ]
    }
   ],
   "source": [
    "def spiral_order(matrix):\n",
    "    # Initialize variables\n",
    "    result = []\n",
    "    rows = len(matrix)\n",
    "    cols = len(matrix[0])\n",
    "    r = 0\n",
    "    c = cols - 1\n",
    "    while r <= c:\n",
    "        # Traverse the top row\n",
    "        for i in range(r, c+1):\n",
    "            result.append(matrix[r][i])\n",
    "        # Traverse the right column\n",
    "        for i in range(r+1, rows):\n",
    "            result.append(matrix[i][c])\n",
    "        # Traverse the bottom row (if not a single row)\n",
    "        if r < rows - 1:\n",
    "            for i in range(c-1, r-1, -1):\n",
    "                result.append(matrix[rows-1][i])\n",
    "        # Traverse the left column (if not a single column)\n",
    "        if c > r:\n",
    "            for i in range(rows-2, r, -1):\n",
    "                result.append(matrix[i][r])\n",
    "        \n",
    "        # Update the boundaries\n",
    "        r += 1\n",
    "        c -= 1\n",
    "        rows -= 1\n",
    "    \n",
    "    return result\n",
    "\n",
    "# Example usage\n",
    "matrix = [[1, 2, 3],\n",
    "          [4, 5, 6],\n",
    "          [7, 8, 7]]\n",
    "print(spiral_order(matrix))"
   ]
  },
  {
   "cell_type": "code",
   "execution_count": 58,
   "metadata": {},
   "outputs": [
    {
     "name": "stdout",
     "output_type": "stream",
     "text": [
      "[8, 7, 4, 5]\n"
     ]
    }
   ],
   "source": [
    "#best solution\n",
    "def spiralmatrix(matrix):\n",
    "    res=[]\n",
    "   \n",
    "    while matrix:\n",
    "        #added first row\n",
    "        res+=(matrix.pop(0)) \n",
    "        #append last elements of all list\n",
    "        if matrix and matrix[0]:\n",
    "            for row in matrix:\n",
    "                res.append(row.pop())\n",
    "        #add reverse of  last row/list\n",
    "        if matrix:\n",
    "            res+=matrix.pop()[::-1]\n",
    "        #append first element of all list in reverse\n",
    "        if matrix and matrix[0]:\n",
    "            for row in matrix[::-1]:\n",
    "                res.append(row.pop(0))\n",
    "    return res  \n",
    "print(spiralmatrix(matrix))  \n",
    "matrix = [[1, 2, 3],\n",
    "          [4, 5, 6],\n",
    "          [7, 8, 7]]    \n",
    "        \n",
    "    \n",
    "    "
   ]
  },
  {
   "cell_type": "code",
   "execution_count": null,
   "metadata": {},
   "outputs": [],
   "source": []
  }
 ],
 "metadata": {
  "kernelspec": {
   "display_name": "Python 3",
   "language": "python",
   "name": "python3"
  },
  "language_info": {
   "codemirror_mode": {
    "name": "ipython",
    "version": 3
   },
   "file_extension": ".py",
   "mimetype": "text/x-python",
   "name": "python",
   "nbconvert_exporter": "python",
   "pygments_lexer": "ipython3",
   "version": "3.12.3"
  }
 },
 "nbformat": 4,
 "nbformat_minor": 2
}
