{
 "cells": [
  {
   "cell_type": "markdown",
   "metadata": {},
   "source": [
    "DUPLICATE VALUES IN AN ARRAY"
   ]
  },
  {
   "cell_type": "code",
   "execution_count": 16,
   "metadata": {},
   "outputs": [
    {
     "name": "stdout",
     "output_type": "stream",
     "text": [
      "False\n"
     ]
    }
   ],
   "source": [
    "\n",
    "#My solution\n",
    "def dep(array1):\n",
    "    for i in array1:\n",
    "        if array1.count(i)>1:\n",
    "            return True\n",
    "        else:\n",
    "            return False\n",
    "      \n",
    "                \n",
    "            \n",
    " \n",
    "\n",
    " \n",
    "array1=[1,2,3,4,5]\n",
    "print(dep(array1))"
   ]
  },
  {
   "cell_type": "code",
   "execution_count": 18,
   "metadata": {},
   "outputs": [
    {
     "name": "stdout",
     "output_type": "stream",
     "text": [
      "False\n"
     ]
    }
   ],
   "source": [
    "#Best way is to use is set\n",
    "def dep(array1):\n",
    "    if(len(set(array1))==len(array1)):\n",
    "        return False\n",
    "    else:\n",
    "        return True\n",
    "array1=[1,2,3,4,5]\n",
    "print(dep(array1))"
   ]
  },
  {
   "cell_type": "markdown",
   "metadata": {},
   "source": [
    "MISSING NUMBER IN AN ARRAY"
   ]
  },
  {
   "cell_type": "code",
   "execution_count": 24,
   "metadata": {},
   "outputs": [
    {
     "name": "stdout",
     "output_type": "stream",
     "text": [
      "0\n"
     ]
    }
   ],
   "source": [
    "#My solution\n",
    "def missing_number(array1):\n",
    "    array1.sort()\n",
    "    for i,v in enumerate(array1):\n",
    "        if i!=v: \n",
    "            return i\n",
    "        \n",
    "array1=[1,3,2]\n",
    "print(missing_number(array1)) "
   ]
  },
  {
   "cell_type": "code",
   "execution_count": 25,
   "metadata": {},
   "outputs": [
    {
     "name": "stdout",
     "output_type": "stream",
     "text": [
      "0\n"
     ]
    }
   ],
   "source": [
    "#best solution for missing number\n",
    "def missing_number(array1):\n",
    "    return sum(range(len(array1)+1)) - sum(array1)\n",
    "array1=[1,3,2]\n",
    "print(missing_number(array1))"
   ]
  },
  {
   "cell_type": "markdown",
   "metadata": {},
   "source": [
    "MISSING NUMBERS IN AN ARRAY"
   ]
  },
  {
   "cell_type": "code",
   "execution_count": 33,
   "metadata": {},
   "outputs": [
    {
     "name": "stdout",
     "output_type": "stream",
     "text": [
      "[5, 6]\n"
     ]
    }
   ],
   "source": [
    "#my solution\n",
    "def missing_numbers(array1):\n",
    "    length_array=len(array1)\n",
    "    s=set(array1)\n",
    "    li=[]\n",
    "    for i in range (1,length_array+1):\n",
    "        if i not in s:\n",
    "            li.append(i)\n",
    "    return li\n",
    "        \n",
    "array1=[4,3,2,7,8,3,2,1]\n",
    "print(missing_numbers(array1))"
   ]
  },
  {
   "cell_type": "markdown",
   "metadata": {},
   "source": [
    "INDEX OF NUMBERS WHEN ADDED REACH A TARGET"
   ]
  },
  {
   "cell_type": "code",
   "execution_count": 45,
   "metadata": {},
   "outputs": [
    {
     "name": "stdout",
     "output_type": "stream",
     "text": [
      "(0, 2)\n"
     ]
    }
   ],
   "source": [
    "#my solution\n",
    "def numbers(target,array1):\n",
    "   \n",
    "    for i in range(0,len(array1)):\n",
    "        if (target-array1[i]) in array1:\n",
    "            return i,array1.index(target-array1[i])\n",
    "        \n",
    "   \n",
    "target=9\n",
    "array1=[2,11,7,5]\n",
    "print(numbers(target,array1))"
   ]
  },
  {
   "cell_type": "code",
   "execution_count": 46,
   "metadata": {},
   "outputs": [
    {
     "name": "stdout",
     "output_type": "stream",
     "text": [
      "(0, 2)\n"
     ]
    }
   ],
   "source": [
    "#better solution\n",
    "def numbers(target,array1):\n",
    "   \n",
    "    hash_map={}\n",
    "    for index,value in enumerate(array1):\n",
    "        diff=target-value\n",
    "        if diff in hash_map:\n",
    "            return hash_map[diff],index\n",
    "        hash_map[value]=index\n",
    "        \n",
    "        \n",
    "   \n",
    "target=9\n",
    "array1=[2,11,7,5]\n",
    "print(numbers(target,array1))"
   ]
  },
  {
   "cell_type": "markdown",
   "metadata": {},
   "source": [
    "HOW MANY NUUMBERS ARE SMALLLER THAN THE COURRENT NUMBER"
   ]
  },
  {
   "cell_type": "code",
   "execution_count": 50,
   "metadata": {},
   "outputs": [
    {
     "name": "stdout",
     "output_type": "stream",
     "text": [
      "[0, 1, 3, 4, 5, 1]\n"
     ]
    }
   ],
   "source": [
    "#my solution\n",
    "def small(array1):\n",
    "    count=0\n",
    "    li=[]\n",
    "    for i in range(0,len(array1)):\n",
    "        for j in array1:\n",
    "            if j<array1[i]:\n",
    "                count+=1\n",
    "        if count>0:\n",
    "            li.append(count)\n",
    "        else:\n",
    "            li.append(0)\n",
    "        count=0\n",
    "    return li\n",
    "    \n",
    "array1=[1,4,5,8,9,4]\n",
    "print(small(array1))"
   ]
  },
  {
   "cell_type": "code",
   "execution_count": 52,
   "metadata": {},
   "outputs": [
    {
     "name": "stdout",
     "output_type": "stream",
     "text": [
      "[0, 1, 1, 3, 4, 5]\n"
     ]
    }
   ],
   "source": [
    "#best solution\n",
    "def small(array1):\n",
    "    temp=array1.sort()\n",
    "    \n",
    "    d={}\n",
    "    li=[]\n",
    "    for index,value in enumerate(temp):\n",
    "        if value not in d:\n",
    "            d[value]=index\n",
    "    for i in array1:\n",
    "        li.append(d[i])\n",
    "    return li\n",
    "    \n",
    "array1=[1,4,5,8,9,4]\n",
    "print(small(array1))"
   ]
  },
  {
   "cell_type": "code",
   "execution_count": null,
   "metadata": {},
   "outputs": [],
   "source": []
  }
 ],
 "metadata": {
  "kernelspec": {
   "display_name": "iiit",
   "language": "python",
   "name": "python3"
  },
  "language_info": {
   "codemirror_mode": {
    "name": "ipython",
    "version": 3
   },
   "file_extension": ".py",
   "mimetype": "text/x-python",
   "name": "python",
   "nbconvert_exporter": "python",
   "pygments_lexer": "ipython3",
   "version": "3.12.3"
  }
 },
 "nbformat": 4,
 "nbformat_minor": 2
}
