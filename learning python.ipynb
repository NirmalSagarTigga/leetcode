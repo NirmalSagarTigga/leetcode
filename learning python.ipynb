{
 "cells": [
  {
   "cell_type": "code",
   "execution_count": 4,
   "metadata": {},
   "outputs": [
    {
     "name": "stdout",
     "output_type": "stream",
     "text": [
      "32\n"
     ]
    }
   ],
   "source": [
    "\n",
    "#*args= allows you to pass multiple non-key arguments\n",
    "#**kwargs= allows you to pass multiple keyword arguments\n",
    "#  * unpacking opewrator\n",
    "\n",
    "\n",
    "'''def add(a,b):\n",
    "    return a+b\n",
    "print(add(1,20))'''\n",
    "def add(*args):\n",
    "    total=0\n",
    "    for arg in args:\n",
    "        total+=arg\n",
    "    return total\n",
    "print(add(1,20,5,6))"
   ]
  },
  {
   "cell_type": "code",
   "execution_count": 5,
   "metadata": {},
   "outputs": [
    {
     "name": "stdout",
     "output_type": "stream",
     "text": [
      "Dr. Spongebob Halo "
     ]
    }
   ],
   "source": [
    "def displayname(*args):\n",
    "    for arg in args:\n",
    "        print(arg,end=\" \")\n",
    "displayname(\"Dr.\",\"Spongebob\",\"Halo\")"
   ]
  },
  {
   "cell_type": "code",
   "execution_count": 9,
   "metadata": {},
   "outputs": [
    {
     "name": "stdout",
     "output_type": "stream",
     "text": [
      "<class 'dict'>\n",
      "{'street': '123 fake state', 'city': 'ranchi', 'state': 'jharkhand', 'zip': '92739698'}\n",
      "street\n",
      "city\n",
      "state\n",
      "zip\n",
      "street:123 fake state\n",
      "city:ranchi\n",
      "state:jharkhand\n",
      "zip:92739698\n"
     ]
    }
   ],
   "source": [
    "#kwargs\n",
    "#example\n",
    "#used as dictionary of keyword arguments\n",
    "def printadress(**kwargs):\n",
    "    print(type(kwargs))\n",
    "    print(kwargs)\n",
    "    for key in kwargs.keys():\n",
    "        print(f\"{key}\")\n",
    "    for key,value in kwargs.items():\n",
    "        print(f\"{key}:{value}\")\n",
    "printadress(street=\"123 fake state\",\n",
    "            city=\"ranchi\",\n",
    "            state=\"jharkhand\",\n",
    "            zip=\"92739698\")"
   ]
  },
  {
   "cell_type": "code",
   "execution_count": 16,
   "metadata": {},
   "outputs": [
    {
     "name": "stdout",
     "output_type": "stream",
     "text": [
      "Dr. Spongebob Halo \n",
      "123 fake state\n",
      "ranchi jharkhand 92739698\n"
     ]
    }
   ],
   "source": [
    "#example of both\n",
    "def shipping_label(*args,**kwargs):\n",
    "    for arg in args:\n",
    "        print(arg,end=\" \")\n",
    "    print()\n",
    "    print(f\"{kwargs.get('street')}\")\n",
    "    print(f\"{kwargs.get('city')} {kwargs.get('state')} {kwargs.get('zip')}\")\n",
    "shipping_label(\"Dr.\",\"Spongebob\",\"Halo\",\n",
    "            street=\"123 fake state\",\n",
    "            city=\"ranchi\",\n",
    "            state=\"jharkhand\",\n",
    "            zip=\"92739698\")"
   ]
  },
  {
   "attachments": {},
   "cell_type": "markdown",
   "metadata": {},
   "source": [
    "ITERABLES = An object/collection that can return its elements one at a time allowing it to be iterated over in a loop"
   ]
  },
  {
   "cell_type": "code",
   "execution_count": 19,
   "metadata": {},
   "outputs": [
    {
     "name": "stdout",
     "output_type": "stream",
     "text": [
      "9-8-7-6-5-4-3-2-1-\n",
      "1 2 3 4 5 6 7 8 9 "
     ]
    }
   ],
   "source": [
    "#example\n",
    "num=[1,2,3,4,5,6,7,8,9]\n",
    "for n in reversed(num):\n",
    "    print(n,end=\"-\")\n",
    "print()\n",
    "for n in num:\n",
    "    print(n,end=\" \")"
   ]
  },
  {
   "cell_type": "code",
   "execution_count": 20,
   "metadata": {},
   "outputs": [
    {
     "name": "stdout",
     "output_type": "stream",
     "text": [
      "H o w   a r e   y o y "
     ]
    }
   ],
   "source": [
    "name='How are yoy'\n",
    "for i in name:\n",
    "    print(i,end=\" \")"
   ]
  },
  {
   "cell_type": "code",
   "execution_count": 27,
   "metadata": {},
   "outputs": [
    {
     "name": "stdout",
     "output_type": "stream",
     "text": [
      "A B C \n",
      "1 2 3 \n",
      "A=1\n",
      "B=2\n",
      "C=3\n"
     ]
    }
   ],
   "source": [
    "dictionary={\"A\":1,\"B\":2,\"C\":3}\n",
    "for key in dictionary:\n",
    "    print(key,end=\" \")\n",
    "print()\n",
    "for value in dictionary.values():\n",
    "    print(value,end=\" \")\n",
    "print()\n",
    "for key,value in dictionary.items():\n",
    "    print(f\"{key}={value}\")"
   ]
  },
  {
   "attachments": {},
   "cell_type": "markdown",
   "metadata": {},
   "source": [
    "MEMBERSHIP OPERATORS"
   ]
  },
  {
   "cell_type": "code",
   "execution_count": 30,
   "metadata": {},
   "outputs": [
    {
     "name": "stdout",
     "output_type": "stream",
     "text": [
      "correct!\n",
      "The secret word contains the letter apple.\n"
     ]
    }
   ],
   "source": [
    "word=\"apple\"\n",
    "letter=input(\"guess the letter ina secret word:\")\n",
    "\n",
    "if letter in word:\n",
    "    print(\"correct!\")\n",
    "    print(f\"The secret word contains the letter {letter}.\")\n",
    "else:\n",
    "    print(\"Incorrect!\")\n",
    "    print(f\"The secret word does not contain the letter {letter}.\")\n"
   ]
  },
  {
   "cell_type": "code",
   "execution_count": 33,
   "metadata": {},
   "outputs": [
    {
     "name": "stdout",
     "output_type": "stream",
     "text": [
      "nirmal is not a student.\n"
     ]
    }
   ],
   "source": [
    "students={\"spongebob\",\"patrick\",\"sandy\"}\n",
    "student=input(\"enter name of a student\")\n",
    "if student not in students:\n",
    "    print(f\"{student} is not a student.\")\n",
    "   \n",
    "else:\n",
    "    \n",
    "    print(f\"{student} is a student.\")"
   ]
  },
  {
   "cell_type": "code",
   "execution_count": 37,
   "metadata": {},
   "outputs": [
    {
     "name": "stdout",
     "output_type": "stream",
     "text": [
      "nst's grade is A\n"
     ]
    }
   ],
   "source": [
    "graded={\"nst\":\"A\",\n",
    "        \"spongebob\":\"B\"}\n",
    "\n",
    "student=input(\"enter name of a student\")\n",
    "\n",
    "if student in graded:\n",
    "    print(f\"{student}'s grade is {graded[student]}\")\n",
    "else:\n",
    "    print(f\"{student} is not in the list of students.\")"
   ]
  },
  {
   "cell_type": "code",
   "execution_count": 39,
   "metadata": {},
   "outputs": [
    {
     "name": "stdout",
     "output_type": "stream",
     "text": [
      "valid email\n"
     ]
    }
   ],
   "source": [
    "email=input(\"enter email address\") #nir123@gmail.com\n",
    "if \"@\" in email and \".\" in email:\n",
    "    print(\"valid email\")\n",
    "else:\n",
    "    print(\"invalid email\")"
   ]
  },
  {
   "attachments": {},
   "cell_type": "markdown",
   "metadata": {},
   "source": [
    "LIST COMPREHENSION"
   ]
  },
  {
   "cell_type": "code",
   "execution_count": 46,
   "metadata": {},
   "outputs": [
    {
     "name": "stdout",
     "output_type": "stream",
     "text": [
      "[2, 4, 6, 8, 10, 12, 14, 16, 18, 20]\n",
      "[2, 4, 6, 8, 10, 12, 14, 16, 18, 20]\n",
      "[3, 6, 9, 12, 15, 18, 21, 24, 27, 30]\n"
     ]
    }
   ],
   "source": [
    "doubles=[]\n",
    "triples=[]\n",
    "squares=[]\n",
    "\n",
    "for num in range(1,11):\n",
    "    doubles.append(num*2)\n",
    "print(doubles)\n",
    "\n",
    "#using list comprehension\n",
    "#doubles=[expression for x in iterables] ----->syntax\n",
    "squares=[num**2 for num in range(1,11)]\n",
    "doubles=[num*2 for num in range(1,11)]\n",
    "triples=[num*3 for num in range(1,11)]\n",
    "print(doubles)\n",
    "print(triples)\n",
    "print(squares)"
   ]
  },
  {
   "cell_type": "code",
   "execution_count": null,
   "metadata": {},
   "outputs": [],
   "source": []
  }
 ],
 "metadata": {
  "kernelspec": {
   "display_name": "Python 3",
   "language": "python",
   "name": "python3"
  },
  "language_info": {
   "codemirror_mode": {
    "name": "ipython",
    "version": 3
   },
   "file_extension": ".py",
   "mimetype": "text/x-python",
   "name": "python",
   "nbconvert_exporter": "python",
   "pygments_lexer": "ipython3",
   "version": "3.12.5"
  },
  "orig_nbformat": 4
 },
 "nbformat": 4,
 "nbformat_minor": 2
}
